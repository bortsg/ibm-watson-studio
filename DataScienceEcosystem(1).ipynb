{
 "cells": [
  {
   "cell_type": "markdown",
   "id": "5b1bf2f5-4d76-45de-976a-8181996812a9",
   "metadata": {},
   "source": [
    "# Data Science Tools and Ecosystem"
   ]
  },
  {
   "cell_type": "markdown",
   "id": "406450ea-c2f9-49b7-8499-65daf08f524f",
   "metadata": {},
   "source": [
    "In this notebook, Data Science Tools and Ecosystem are summarized"
   ]
  },
  {
   "cell_type": "markdown",
   "id": "ea9bcd8b-5549-4f0a-9da2-8cd7c6aa35f7",
   "metadata": {},
   "source": [
    "**Objectives:**\n",
    "* List popular languages for Data Science\n",
    "* List popular libraries for Data Science\n",
    "* Example of evaluating in Phyton"
   ]
  },
  {
   "cell_type": "markdown",
   "id": "a0373cf9-9605-4940-bd3b-8db7f7ba8397",
   "metadata": {},
   "source": [
    "Some of the popular languages that Data Scientists use are:\n",
    "1. Phyton\n",
    "2. SQL\n",
    "3. R"
   ]
  },
  {
   "cell_type": "markdown",
   "id": "37f253e2-44dd-48be-a1cb-92e4f5422548",
   "metadata": {},
   "source": [
    "Some of the commonly used libraries used by Data Scientists include:\n",
    "1. Pandas\n",
    "2. NumPy\n",
    "3. PyTorch"
   ]
  },
  {
   "cell_type": "markdown",
   "id": "68d282ea-06f2-472f-8eb9-0a006980bb2b",
   "metadata": {},
   "source": [
    "\n",
    "|Data Science Tools|\n",
    "-----------------------------\n",
    "| Jupyter Notebook |\n",
    "-----------------------------\n",
    "| Rstudio |\n",
    "-----------------------------\n",
    "|GitHub|\n",
    "-----------------------------\n"
   ]
  },
  {
   "cell_type": "markdown",
   "id": "74cf5820-77c5-4740-8b49-07d469dc081d",
   "metadata": {},
   "source": [
    "\n",
    "### Below are a few examples of evaluating arithmetic expressions in Python\n",
    "\n"
   ]
  },
  {
   "cell_type": "code",
   "execution_count": 3,
   "id": "802ed9cf-3f18-4c6e-8a84-962470ebbfeb",
   "metadata": {},
   "outputs": [
    {
     "name": "stdout",
     "output_type": "stream",
     "text": [
      "17\n"
     ]
    }
   ],
   "source": [
    "# This a simple arithmetic expression to mutiply then add integers:\n",
    "\n",
    "print ((3*4)+5)"
   ]
  },
  {
   "cell_type": "code",
   "execution_count": 4,
   "id": "28d12719-0dfb-40ba-a88b-f0e4fc1fe7d1",
   "metadata": {},
   "outputs": [
    {
     "name": "stdout",
     "output_type": "stream",
     "text": [
      "3.3333333333333335\n"
     ]
    }
   ],
   "source": [
    "# This will convert 200 minutes to hours by diving by 60\n",
    "\n",
    "print (200/60)"
   ]
  },
  {
   "cell_type": "markdown",
   "id": "4d46911b-5602-40aa-80bc-ff4d8f95d097",
   "metadata": {},
   "source": [
    "## Author\n",
    "Tsagan-Mandzhiev Timur"
   ]
  },
  {
   "cell_type": "code",
   "execution_count": null,
   "id": "20ece64f-d187-45f9-bffa-24c9b04bf3fd",
   "metadata": {},
   "outputs": [],
   "source": []
  }
 ],
 "metadata": {
  "kernelspec": {
   "display_name": "Python",
   "language": "python",
   "name": "conda-env-python-py"
  },
  "language_info": {
   "codemirror_mode": {
    "name": "ipython",
    "version": 3
   },
   "file_extension": ".py",
   "mimetype": "text/x-python",
   "name": "python",
   "nbconvert_exporter": "python",
   "pygments_lexer": "ipython3",
   "version": "3.7.12"
  }
 },
 "nbformat": 4,
 "nbformat_minor": 5
}
